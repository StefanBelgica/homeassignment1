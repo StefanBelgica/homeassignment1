{
  "nbformat": 4,
  "nbformat_minor": 0,
  "metadata": {
    "colab": {
      "provenance": [],
      "mount_file_id": "1jOzLtMmZk6zFp75AvwQMx9k6XiGB4kf6",
      "authorship_tag": "ABX9TyPt7BaYTeyj3GikXgJOMLXw",
      "include_colab_link": true
    },
    "kernelspec": {
      "name": "python3",
      "display_name": "Python 3"
    },
    "language_info": {
      "name": "python"
    }
  },
  "cells": [
    {
      "cell_type": "markdown",
      "metadata": {
        "id": "view-in-github",
        "colab_type": "text"
      },
      "source": [
        "<a href=\"https://colab.research.google.com/github/StefanBelgica/homeassignment1/blob/main/Colibri_Home_Exercise.ipynb\" target=\"_parent\"><img src=\"https://colab.research.google.com/assets/colab-badge.svg\" alt=\"Open In Colab\"/></a>"
      ]
    },
    {
      "cell_type": "markdown",
      "source": [
        "## Prerequisites to running PySpark and SQLite in Google Collab"
      ],
      "metadata": {
        "id": "lR1Hkke4B6E4"
      }
    },
    {
      "cell_type": "code",
      "execution_count": null,
      "metadata": {
        "id": "130JCjqNTxfa"
      },
      "outputs": [],
      "source": [
        "!apt-get install openjdk-8-jdk-headless -qq > /dev/null\n",
        "!wget -q http://archive.apache.org/dist/spark/spark-3.1.1/spark-3.1.1-bin-hadoop3.2.tgz\n",
        "!tar xf spark-3.1.1-bin-hadoop3.2.tgz\n",
        "!pip install -q findspark\n",
        "!curl -O https://repo1.maven.org/maven2/org/xerial/sqlite-jdbc/3.34.0/sqlite-jdbc-3.34.0.jar"
      ]
    },
    {
      "cell_type": "markdown",
      "source": [
        "## Set up environment variables"
      ],
      "metadata": {
        "id": "gKykh_gfCGhr"
      }
    },
    {
      "cell_type": "code",
      "source": [
        "import os\n",
        "os.environ[\"JAVA_HOME\"] = \"/usr/lib/jvm/java-8-openjdk-amd64\"\n",
        "os.environ[\"SPARK_HOME\"] = \"/content/spark-3.1.1-bin-hadoop3.2\""
      ],
      "metadata": {
        "id": "hNrFD3MwWNrA"
      },
      "execution_count": null,
      "outputs": []
    },
    {
      "cell_type": "markdown",
      "source": [
        "## Import PySpark and create Spark Session"
      ],
      "metadata": {
        "id": "fKOythSjCN4V"
      }
    },
    {
      "cell_type": "code",
      "source": [
        "import findspark\n",
        "findspark.init()\n",
        "from pyspark.sql import SparkSession\n",
        "spark = SparkSession.builder.master(\"local[*]\").config(\n",
        "        \"spark.jars\",\n",
        "        \"sqlite-jdbc-3.34.0.jar\".format(os.getcwd())).config(\n",
        "        \"spark.driver.extraClassPath\",\n",
        "        \"sqlite-jdbc-3.34.0.jar\".format(os.getcwd())).getOrCreate()\n",
        "spark.conf.set(\"spark.sql.repl.eagerEval.enabled\", True) # Property used to format output tables better\n",
        "spark"
      ],
      "metadata": {
        "colab": {
          "base_uri": "https://localhost:8080/",
          "height": 219
        },
        "id": "8k_sq7yxWTM4",
        "outputId": "a3ebba01-a7a7-4a81-bc40-7cf4cd90226c"
      },
      "execution_count": null,
      "outputs": [
        {
          "output_type": "execute_result",
          "data": {
            "text/plain": [
              "<pyspark.sql.session.SparkSession at 0x78f4b823ca90>"
            ],
            "text/html": [
              "\n",
              "            <div>\n",
              "                <p><b>SparkSession - in-memory</b></p>\n",
              "                \n",
              "        <div>\n",
              "            <p><b>SparkContext</b></p>\n",
              "\n",
              "            <p><a href=\"http://28e666bab4b3:4040\">Spark UI</a></p>\n",
              "\n",
              "            <dl>\n",
              "              <dt>Version</dt>\n",
              "                <dd><code>v3.1.1</code></dd>\n",
              "              <dt>Master</dt>\n",
              "                <dd><code>local[*]</code></dd>\n",
              "              <dt>AppName</dt>\n",
              "                <dd><code>pyspark-shell</code></dd>\n",
              "            </dl>\n",
              "        </div>\n",
              "        \n",
              "            </div>\n",
              "        "
            ]
          },
          "metadata": {},
          "execution_count": 70
        }
      ]
    },
    {
      "cell_type": "markdown",
      "source": [
        "## PySpark function imports"
      ],
      "metadata": {
        "id": "VKYpXxTxCTZD"
      }
    },
    {
      "cell_type": "code",
      "source": [
        "from pyspark.sql.functions import col, mean, stddev, max, min, window"
      ],
      "metadata": {
        "id": "h_pT9B8T02Uo"
      },
      "execution_count": null,
      "outputs": []
    },
    {
      "cell_type": "markdown",
      "source": [
        "## Check that our CSV's are in place (these were imported to the root of Google Drive and not to the Collab session as it does not keep files after deactivation)"
      ],
      "metadata": {
        "id": "zTPj_9CzCZ1W"
      }
    },
    {
      "cell_type": "code",
      "source": [
        "!ls drive/MyDrive/'Colibri Dataset'"
      ],
      "metadata": {
        "colab": {
          "base_uri": "https://localhost:8080/"
        },
        "id": "bB-2cWLuWYgy",
        "outputId": "1f895728-35fa-497b-b0db-2974429082fc"
      },
      "execution_count": null,
      "outputs": [
        {
          "output_type": "stream",
          "name": "stdout",
          "text": [
            "data_group_1.csv  data_group_2.csv  data_group_3.csv\n"
          ]
        }
      ]
    },
    {
      "cell_type": "markdown",
      "source": [
        "## Read the data and inspect the schema"
      ],
      "metadata": {
        "id": "xH4H8dhxCqJS"
      }
    },
    {
      "cell_type": "code",
      "source": [
        "data = spark.read.csv(\"drive/MyDrive/Colibri Dataset/\", header=True, sep=',', inferSchema=True)\n",
        "data.show()\n",
        "print(data.schema)\n",
        "print(f'Number of entries: {data.count()}')"
      ],
      "metadata": {
        "colab": {
          "base_uri": "https://localhost:8080/"
        },
        "id": "HI0hbTrWXcHV",
        "outputId": "09e2399f-5ca2-40d5-be8f-56b0f7eb6803"
      },
      "execution_count": null,
      "outputs": [
        {
          "output_type": "stream",
          "name": "stdout",
          "text": [
            "+-------------------+----------+----------+--------------+------------+\n",
            "|          timestamp|turbine_id|wind_speed|wind_direction|power_output|\n",
            "+-------------------+----------+----------+--------------+------------+\n",
            "|2022-03-01 00:00:00|        11|       9.1|           269|         2.9|\n",
            "|2022-03-01 00:00:00|        12|      11.3|           316|         2.5|\n",
            "|2022-03-01 00:00:00|        13|      11.2|           148|         3.7|\n",
            "|2022-03-01 00:00:00|        14|      10.7|            97|         1.6|\n",
            "|2022-03-01 00:00:00|        15|      11.0|            81|         4.4|\n",
            "|2022-03-01 01:00:00|        11|      12.3|           245|         1.8|\n",
            "|2022-03-01 01:00:00|        12|      11.0|           293|         2.2|\n",
            "|2022-03-01 01:00:00|        13|      11.4|           270|         1.9|\n",
            "|2022-03-01 01:00:00|        14|      10.4|           140|         2.3|\n",
            "|2022-03-01 01:00:00|        15|      14.6|           283|         4.3|\n",
            "|2022-03-01 02:00:00|        11|      14.3|           135|         2.9|\n",
            "|2022-03-01 02:00:00|        12|       9.1|           358|         3.2|\n",
            "|2022-03-01 02:00:00|        13|      13.7|            67|         3.1|\n",
            "|2022-03-01 02:00:00|        14|       9.2|            89|         2.7|\n",
            "|2022-03-01 02:00:00|        15|       9.7|           303|         4.5|\n",
            "|2022-03-01 03:00:00|        11|       9.6|           171|         2.6|\n",
            "|2022-03-01 03:00:00|        12|      11.0|           175|         2.4|\n",
            "|2022-03-01 03:00:00|        13|      13.0|            42|         4.1|\n",
            "|2022-03-01 03:00:00|        14|      13.6|           198|         3.1|\n",
            "|2022-03-01 03:00:00|        15|       9.3|           162|         3.8|\n",
            "+-------------------+----------+----------+--------------+------------+\n",
            "only showing top 20 rows\n",
            "\n",
            "StructType(List(StructField(timestamp,StringType,true),StructField(turbine_id,IntegerType,true),StructField(wind_speed,DoubleType,true),StructField(wind_direction,IntegerType,true),StructField(power_output,DoubleType,true)))\n",
            "Number of entries: 11160\n"
          ]
        }
      ]
    },
    {
      "cell_type": "markdown",
      "source": [
        "## Drop missing values, as imputing them with the mean value or something similar would affect our stats and then mistakenly mark anomalies"
      ],
      "metadata": {
        "id": "1r_GQSIMDT_2"
      }
    },
    {
      "cell_type": "code",
      "source": [
        "cleaned_data = data.dropna()"
      ],
      "metadata": {
        "id": "RyrF1EphfXHT"
      },
      "execution_count": null,
      "outputs": []
    },
    {
      "cell_type": "markdown",
      "source": [
        "## Calculate summary stats"
      ],
      "metadata": {
        "id": "0P41we_6EZ2e"
      }
    },
    {
      "cell_type": "code",
      "source": [
        "summary_stats = (\n",
        "    cleaned_data.groupBy(\"turbine_id\", window(\"timestamp\", \"24 hours\"))\n",
        "    .agg(\n",
        "        min(col(\"power_output\")).alias(\"min_power_output\"),\n",
        "        max(col(\"power_output\")).alias(\"max_power_output\"),\n",
        "        mean(col(\"power_output\")).alias(\"mean_power_output\"),\n",
        "        stddev(col(\"power_output\")).alias(\"stddev_power_output\"),\n",
        "        )\n",
        "    )\n",
        "summary_stats"
      ],
      "metadata": {
        "colab": {
          "base_uri": "https://localhost:8080/",
          "height": 529
        },
        "id": "davzp5fs0JS3",
        "outputId": "66309edc-b3b5-40e9-e0cd-333bafaa9123"
      },
      "execution_count": null,
      "outputs": [
        {
          "output_type": "execute_result",
          "data": {
            "text/plain": [
              "+----------+--------------------+----------------+----------------+------------------+-------------------+\n",
              "|turbine_id|              window|min_power_output|max_power_output| mean_power_output|stddev_power_output|\n",
              "+----------+--------------------+----------------+----------------+------------------+-------------------+\n",
              "|         6|{2022-03-09 00:00...|             1.5|             4.5| 2.816666666666667|  0.978759937110604|\n",
              "|         2|{2022-03-01 00:00...|             1.6|             4.4|2.9833333333333325|  0.980535198431101|\n",
              "|         1|{2022-03-06 00:00...|             1.5|             4.4|2.9583333333333335| 0.9245053514866944|\n",
              "|        13|{2022-03-01 00:00...|             1.8|             4.3|3.0333333333333337|  0.796004515317468|\n",
              "|        11|{2022-03-11 00:00...|             1.6|             4.1| 2.891666666666667| 0.7552233569220299|\n",
              "|         7|{2022-03-28 00:00...|             1.8|             4.5|3.0250000000000004|  0.846090754716887|\n",
              "|         1|{2022-03-25 00:00...|             1.5|             4.4|3.0666666666666664| 0.8646017764751921|\n",
              "|         1|{2022-03-13 00:00...|             1.5|             4.5| 2.904166666666667| 0.9424663143174872|\n",
              "|        14|{2022-03-09 00:00...|             1.9|             4.3|3.1624999999999996| 0.7716794220625445|\n",
              "|        13|{2022-03-23 00:00...|             1.6|             4.4| 3.266666666666666| 0.9253279872877351|\n",
              "|        10|{2022-03-15 00:00...|             1.7|             4.3|3.0250000000000004| 0.8689073598491382|\n",
              "|         4|{2022-03-12 00:00...|             1.5|             4.5|2.8916666666666675|  0.931999564595283|\n",
              "|         7|{2022-03-11 00:00...|             1.6|             4.5|3.1791666666666667| 0.9463794471410579|\n",
              "|         4|{2022-03-13 00:00...|             1.5|             4.5| 2.920833333333333| 1.1092414825756682|\n",
              "|        15|{2022-03-04 00:00...|             1.6|             4.2|3.1041666666666665| 0.8829196460886322|\n",
              "|        14|{2022-03-16 00:00...|             1.6|             4.5|              3.25|  0.926892892832073|\n",
              "|         8|{2022-03-17 00:00...|             1.6|             4.3|2.7208333333333337| 0.6672325496873776|\n",
              "|         7|{2022-03-24 00:00...|             1.5|             4.4|              2.75| 0.9217186215930024|\n",
              "|        13|{2022-03-16 00:00...|             1.7|             4.4|3.0833333333333326| 0.9328155913878325|\n",
              "|         8|{2022-03-07 00:00...|             1.5|             4.4|            2.9375|   1.02821605748479|\n",
              "+----------+--------------------+----------------+----------------+------------------+-------------------+\n",
              "only showing top 20 rows"
            ],
            "text/html": [
              "<table border='1'>\n",
              "<tr><th>turbine_id</th><th>window</th><th>min_power_output</th><th>max_power_output</th><th>mean_power_output</th><th>stddev_power_output</th></tr>\n",
              "<tr><td>6</td><td>{2022-03-09 00:00...</td><td>1.5</td><td>4.5</td><td>2.816666666666667</td><td>0.978759937110604</td></tr>\n",
              "<tr><td>2</td><td>{2022-03-01 00:00...</td><td>1.6</td><td>4.4</td><td>2.9833333333333325</td><td>0.980535198431101</td></tr>\n",
              "<tr><td>1</td><td>{2022-03-06 00:00...</td><td>1.5</td><td>4.4</td><td>2.9583333333333335</td><td>0.9245053514866944</td></tr>\n",
              "<tr><td>13</td><td>{2022-03-01 00:00...</td><td>1.8</td><td>4.3</td><td>3.0333333333333337</td><td>0.796004515317468</td></tr>\n",
              "<tr><td>11</td><td>{2022-03-11 00:00...</td><td>1.6</td><td>4.1</td><td>2.891666666666667</td><td>0.7552233569220299</td></tr>\n",
              "<tr><td>7</td><td>{2022-03-28 00:00...</td><td>1.8</td><td>4.5</td><td>3.0250000000000004</td><td>0.846090754716887</td></tr>\n",
              "<tr><td>1</td><td>{2022-03-25 00:00...</td><td>1.5</td><td>4.4</td><td>3.0666666666666664</td><td>0.8646017764751921</td></tr>\n",
              "<tr><td>1</td><td>{2022-03-13 00:00...</td><td>1.5</td><td>4.5</td><td>2.904166666666667</td><td>0.9424663143174872</td></tr>\n",
              "<tr><td>14</td><td>{2022-03-09 00:00...</td><td>1.9</td><td>4.3</td><td>3.1624999999999996</td><td>0.7716794220625445</td></tr>\n",
              "<tr><td>13</td><td>{2022-03-23 00:00...</td><td>1.6</td><td>4.4</td><td>3.266666666666666</td><td>0.9253279872877351</td></tr>\n",
              "<tr><td>10</td><td>{2022-03-15 00:00...</td><td>1.7</td><td>4.3</td><td>3.0250000000000004</td><td>0.8689073598491382</td></tr>\n",
              "<tr><td>4</td><td>{2022-03-12 00:00...</td><td>1.5</td><td>4.5</td><td>2.8916666666666675</td><td>0.931999564595283</td></tr>\n",
              "<tr><td>7</td><td>{2022-03-11 00:00...</td><td>1.6</td><td>4.5</td><td>3.1791666666666667</td><td>0.9463794471410579</td></tr>\n",
              "<tr><td>4</td><td>{2022-03-13 00:00...</td><td>1.5</td><td>4.5</td><td>2.920833333333333</td><td>1.1092414825756682</td></tr>\n",
              "<tr><td>15</td><td>{2022-03-04 00:00...</td><td>1.6</td><td>4.2</td><td>3.1041666666666665</td><td>0.8829196460886322</td></tr>\n",
              "<tr><td>14</td><td>{2022-03-16 00:00...</td><td>1.6</td><td>4.5</td><td>3.25</td><td>0.926892892832073</td></tr>\n",
              "<tr><td>8</td><td>{2022-03-17 00:00...</td><td>1.6</td><td>4.3</td><td>2.7208333333333337</td><td>0.6672325496873776</td></tr>\n",
              "<tr><td>7</td><td>{2022-03-24 00:00...</td><td>1.5</td><td>4.4</td><td>2.75</td><td>0.9217186215930024</td></tr>\n",
              "<tr><td>13</td><td>{2022-03-16 00:00...</td><td>1.7</td><td>4.4</td><td>3.0833333333333326</td><td>0.9328155913878325</td></tr>\n",
              "<tr><td>8</td><td>{2022-03-07 00:00...</td><td>1.5</td><td>4.4</td><td>2.9375</td><td>1.02821605748479</td></tr>\n",
              "</table>\n",
              "only showing top 20 rows\n"
            ]
          },
          "metadata": {},
          "execution_count": 75
        }
      ]
    },
    {
      "cell_type": "markdown",
      "source": [
        "## Get anomalies from cleaned dataset"
      ],
      "metadata": {
        "id": "RhUl7LHOE64x"
      }
    },
    {
      "cell_type": "code",
      "source": [
        "anomalies = (\n",
        "    summary_stats.withColumn(\"lower_bound\", col(\"mean_power_output\") - 2 * col(\"stddev_power_output\"))\n",
        "    .withColumn(\"upper_bound\", col(\"mean_power_output\") + 2 * col(\"stddev_power_output\"))\n",
        "    .join(cleaned_data, \"turbine_id\")\n",
        "    .filter((col(\"power_output\") < col(\"lower_bound\")) | (col(\"power_output\") > col(\"upper_bound\")))\n",
        "    .select(col(\"timestamp\"), col(\"turbine_id\"), col(\"wind_speed\"), col(\"wind_direction\"), col(\"power_output\"), col(\"mean_power_output\"), col(\"lower_bound\"), col(\"upper_bound\"))\n",
        ")\n",
        "anomalies"
      ],
      "metadata": {
        "colab": {
          "base_uri": "https://localhost:8080/",
          "height": 529
        },
        "id": "O-W6mqBM2B92",
        "outputId": "47dfb8c9-59c3-4de2-f553-bfc79f7be53c"
      },
      "execution_count": null,
      "outputs": [
        {
          "output_type": "execute_result",
          "data": {
            "text/plain": [
              "+-------------------+----------+----------+--------------+------------+------------------+------------------+------------------+\n",
              "|          timestamp|turbine_id|wind_speed|wind_direction|power_output| mean_power_output|       lower_bound|       upper_bound|\n",
              "+-------------------+----------+----------+--------------+------------+------------------+------------------+------------------+\n",
              "|2022-03-01 00:00:00|        14|      10.7|            97|         1.6| 2.966666666666667|1.7470207213677624| 4.186312611965571|\n",
              "|2022-03-01 00:00:00|        14|      10.7|            97|         1.6| 3.304166666666666|1.6055952293887892| 5.002738103944543|\n",
              "|2022-03-01 00:00:00|        14|      10.7|            97|         1.6|3.1624999999999996|1.6191411558749107| 4.705858844125089|\n",
              "|2022-03-01 00:00:00|        15|      11.0|            81|         4.4|            2.6625|1.0583613309426094| 4.266638669057391|\n",
              "|2022-03-01 00:00:00|        15|      11.0|            81|         4.4| 2.995833333333333|1.6146187869328088|4.3770478797338574|\n",
              "|2022-03-01 00:00:00|        15|      11.0|            81|         4.4|            2.7125|1.2771542607077735| 4.147845739292226|\n",
              "|2022-03-01 01:00:00|        11|      12.3|           245|         1.8|             3.225| 1.855455486698938| 4.594544513301062|\n",
              "|2022-03-01 01:00:00|        15|      14.6|           283|         4.3|            2.6625|1.0583613309426094| 4.266638669057391|\n",
              "|2022-03-01 01:00:00|        15|      14.6|           283|         4.3|            2.7125|1.2771542607077735| 4.147845739292226|\n",
              "|2022-03-01 02:00:00|        15|       9.7|           303|         4.5|            2.6625|1.0583613309426094| 4.266638669057391|\n",
              "|2022-03-01 02:00:00|        15|       9.7|           303|         4.5| 2.970833333333333|1.4993901888196786| 4.442276477846988|\n",
              "|2022-03-01 02:00:00|        15|       9.7|           303|         4.5| 2.850000000000001| 1.204981168338266| 4.495018831661736|\n",
              "|2022-03-01 02:00:00|        15|       9.7|           303|         4.5| 2.995833333333333|1.6146187869328088|4.3770478797338574|\n",
              "|2022-03-01 02:00:00|        15|       9.7|           303|         4.5|2.9958333333333322|1.5386422692990207| 4.453024397367644|\n",
              "|2022-03-01 02:00:00|        15|       9.7|           303|         4.5|            2.7125|1.2771542607077735| 4.147845739292226|\n",
              "|2022-03-01 04:00:00|        11|       9.2|           316|         4.2| 2.579166666666667|1.0188108915539729| 4.139522441779361|\n",
              "|2022-03-01 04:00:00|        11|       9.2|           316|         4.2|2.7916666666666674|1.3936349239572294| 4.189698409376105|\n",
              "|2022-03-01 05:00:00|        12|      12.9|            15|         1.6|3.3874999999999997|1.7295153669354288| 5.045484633064571|\n",
              "|2022-03-01 05:00:00|        12|      12.9|            15|         1.6|3.3708333333333336|1.6897579356329144| 5.051908731033753|\n",
              "|2022-03-01 05:00:00|        12|      12.9|            15|         1.6|3.2833333333333328| 1.804595132478744| 4.762071534187921|\n",
              "+-------------------+----------+----------+--------------+------------+------------------+------------------+------------------+\n",
              "only showing top 20 rows"
            ],
            "text/html": [
              "<table border='1'>\n",
              "<tr><th>timestamp</th><th>turbine_id</th><th>wind_speed</th><th>wind_direction</th><th>power_output</th><th>mean_power_output</th><th>lower_bound</th><th>upper_bound</th></tr>\n",
              "<tr><td>2022-03-01 00:00:00</td><td>14</td><td>10.7</td><td>97</td><td>1.6</td><td>2.966666666666667</td><td>1.7470207213677624</td><td>4.186312611965571</td></tr>\n",
              "<tr><td>2022-03-01 00:00:00</td><td>14</td><td>10.7</td><td>97</td><td>1.6</td><td>3.304166666666666</td><td>1.6055952293887892</td><td>5.002738103944543</td></tr>\n",
              "<tr><td>2022-03-01 00:00:00</td><td>14</td><td>10.7</td><td>97</td><td>1.6</td><td>3.1624999999999996</td><td>1.6191411558749107</td><td>4.705858844125089</td></tr>\n",
              "<tr><td>2022-03-01 00:00:00</td><td>15</td><td>11.0</td><td>81</td><td>4.4</td><td>2.6625</td><td>1.0583613309426094</td><td>4.266638669057391</td></tr>\n",
              "<tr><td>2022-03-01 00:00:00</td><td>15</td><td>11.0</td><td>81</td><td>4.4</td><td>2.995833333333333</td><td>1.6146187869328088</td><td>4.3770478797338574</td></tr>\n",
              "<tr><td>2022-03-01 00:00:00</td><td>15</td><td>11.0</td><td>81</td><td>4.4</td><td>2.7125</td><td>1.2771542607077735</td><td>4.147845739292226</td></tr>\n",
              "<tr><td>2022-03-01 01:00:00</td><td>11</td><td>12.3</td><td>245</td><td>1.8</td><td>3.225</td><td>1.855455486698938</td><td>4.594544513301062</td></tr>\n",
              "<tr><td>2022-03-01 01:00:00</td><td>15</td><td>14.6</td><td>283</td><td>4.3</td><td>2.6625</td><td>1.0583613309426094</td><td>4.266638669057391</td></tr>\n",
              "<tr><td>2022-03-01 01:00:00</td><td>15</td><td>14.6</td><td>283</td><td>4.3</td><td>2.7125</td><td>1.2771542607077735</td><td>4.147845739292226</td></tr>\n",
              "<tr><td>2022-03-01 02:00:00</td><td>15</td><td>9.7</td><td>303</td><td>4.5</td><td>2.6625</td><td>1.0583613309426094</td><td>4.266638669057391</td></tr>\n",
              "<tr><td>2022-03-01 02:00:00</td><td>15</td><td>9.7</td><td>303</td><td>4.5</td><td>2.970833333333333</td><td>1.4993901888196786</td><td>4.442276477846988</td></tr>\n",
              "<tr><td>2022-03-01 02:00:00</td><td>15</td><td>9.7</td><td>303</td><td>4.5</td><td>2.850000000000001</td><td>1.204981168338266</td><td>4.495018831661736</td></tr>\n",
              "<tr><td>2022-03-01 02:00:00</td><td>15</td><td>9.7</td><td>303</td><td>4.5</td><td>2.995833333333333</td><td>1.6146187869328088</td><td>4.3770478797338574</td></tr>\n",
              "<tr><td>2022-03-01 02:00:00</td><td>15</td><td>9.7</td><td>303</td><td>4.5</td><td>2.9958333333333322</td><td>1.5386422692990207</td><td>4.453024397367644</td></tr>\n",
              "<tr><td>2022-03-01 02:00:00</td><td>15</td><td>9.7</td><td>303</td><td>4.5</td><td>2.7125</td><td>1.2771542607077735</td><td>4.147845739292226</td></tr>\n",
              "<tr><td>2022-03-01 04:00:00</td><td>11</td><td>9.2</td><td>316</td><td>4.2</td><td>2.579166666666667</td><td>1.0188108915539729</td><td>4.139522441779361</td></tr>\n",
              "<tr><td>2022-03-01 04:00:00</td><td>11</td><td>9.2</td><td>316</td><td>4.2</td><td>2.7916666666666674</td><td>1.3936349239572294</td><td>4.189698409376105</td></tr>\n",
              "<tr><td>2022-03-01 05:00:00</td><td>12</td><td>12.9</td><td>15</td><td>1.6</td><td>3.3874999999999997</td><td>1.7295153669354288</td><td>5.045484633064571</td></tr>\n",
              "<tr><td>2022-03-01 05:00:00</td><td>12</td><td>12.9</td><td>15</td><td>1.6</td><td>3.3708333333333336</td><td>1.6897579356329144</td><td>5.051908731033753</td></tr>\n",
              "<tr><td>2022-03-01 05:00:00</td><td>12</td><td>12.9</td><td>15</td><td>1.6</td><td>3.2833333333333328</td><td>1.804595132478744</td><td>4.762071534187921</td></tr>\n",
              "</table>\n",
              "only showing top 20 rows\n"
            ]
          },
          "metadata": {},
          "execution_count": 76
        }
      ]
    },
    {
      "cell_type": "code",
      "source": [
        "import sqlite3"
      ],
      "metadata": {
        "id": "3vyVjhY--9C-"
      },
      "execution_count": null,
      "outputs": []
    },
    {
      "cell_type": "markdown",
      "source": [
        "## Attempt to write to SQLite database (doesn't work in collab)"
      ],
      "metadata": {
        "id": "BsGiq-chFDP7"
      }
    },
    {
      "cell_type": "code",
      "source": [
        "with sqlite3.connect(\"cleaned_data.db\"):\n",
        "  cleaned_data.write.jdbc(\"jdbc:sqlite:cleaned_data.db\", \"cleaned_data\", mode=\"overwrite\")\n",
        "with sqlite3.connect(\"summary_stats.db\"):\n",
        "  summary_stats.write.jdbc(\"jdbc:sqlite:summary_stats.db\", \"summary_stats\", mode=\"overwrite\")\n"
      ],
      "metadata": {
        "colab": {
          "base_uri": "https://localhost:8080/",
          "height": 1000
        },
        "id": "IB-c4SZP--5k",
        "outputId": "1c921fa9-948d-4322-8486-509c3021fdf2"
      },
      "execution_count": null,
      "outputs": [
        {
          "output_type": "error",
          "ename": "Py4JJavaError",
          "evalue": "ignored",
          "traceback": [
            "\u001b[0;31m---------------------------------------------------------------------------\u001b[0m",
            "\u001b[0;31mPy4JJavaError\u001b[0m                             Traceback (most recent call last)",
            "\u001b[0;32m<ipython-input-78-d9711b1df908>\u001b[0m in \u001b[0;36m<cell line: 1>\u001b[0;34m()\u001b[0m\n\u001b[1;32m      1\u001b[0m \u001b[0;32mwith\u001b[0m \u001b[0msqlite3\u001b[0m\u001b[0;34m.\u001b[0m\u001b[0mconnect\u001b[0m\u001b[0;34m(\u001b[0m\u001b[0;34m\"cleaned_data.db\"\u001b[0m\u001b[0;34m)\u001b[0m\u001b[0;34m:\u001b[0m\u001b[0;34m\u001b[0m\u001b[0;34m\u001b[0m\u001b[0m\n\u001b[0;32m----> 2\u001b[0;31m   \u001b[0mcleaned_data\u001b[0m\u001b[0;34m.\u001b[0m\u001b[0mwrite\u001b[0m\u001b[0;34m.\u001b[0m\u001b[0mjdbc\u001b[0m\u001b[0;34m(\u001b[0m\u001b[0;34m\"jdbc:sqlite:cleaned_data.db\"\u001b[0m\u001b[0;34m,\u001b[0m \u001b[0;34m\"cleaned_data\"\u001b[0m\u001b[0;34m,\u001b[0m \u001b[0mmode\u001b[0m\u001b[0;34m=\u001b[0m\u001b[0;34m\"overwrite\"\u001b[0m\u001b[0;34m)\u001b[0m\u001b[0;34m\u001b[0m\u001b[0;34m\u001b[0m\u001b[0m\n\u001b[0m",
            "\u001b[0;32m/content/spark-3.1.1-bin-hadoop3.2/python/pyspark/sql/readwriter.py\u001b[0m in \u001b[0;36mjdbc\u001b[0;34m(self, url, table, mode, properties)\u001b[0m\n\u001b[1;32m   1442\u001b[0m         \u001b[0;32mfor\u001b[0m \u001b[0mk\u001b[0m \u001b[0;32min\u001b[0m \u001b[0mproperties\u001b[0m\u001b[0;34m:\u001b[0m\u001b[0;34m\u001b[0m\u001b[0;34m\u001b[0m\u001b[0m\n\u001b[1;32m   1443\u001b[0m             \u001b[0mjprop\u001b[0m\u001b[0;34m.\u001b[0m\u001b[0msetProperty\u001b[0m\u001b[0;34m(\u001b[0m\u001b[0mk\u001b[0m\u001b[0;34m,\u001b[0m \u001b[0mproperties\u001b[0m\u001b[0;34m[\u001b[0m\u001b[0mk\u001b[0m\u001b[0;34m]\u001b[0m\u001b[0;34m)\u001b[0m\u001b[0;34m\u001b[0m\u001b[0;34m\u001b[0m\u001b[0m\n\u001b[0;32m-> 1444\u001b[0;31m         \u001b[0mself\u001b[0m\u001b[0;34m.\u001b[0m\u001b[0mmode\u001b[0m\u001b[0;34m(\u001b[0m\u001b[0mmode\u001b[0m\u001b[0;34m)\u001b[0m\u001b[0;34m.\u001b[0m\u001b[0m_jwrite\u001b[0m\u001b[0;34m.\u001b[0m\u001b[0mjdbc\u001b[0m\u001b[0;34m(\u001b[0m\u001b[0murl\u001b[0m\u001b[0;34m,\u001b[0m \u001b[0mtable\u001b[0m\u001b[0;34m,\u001b[0m \u001b[0mjprop\u001b[0m\u001b[0;34m)\u001b[0m\u001b[0;34m\u001b[0m\u001b[0;34m\u001b[0m\u001b[0m\n\u001b[0m\u001b[1;32m   1445\u001b[0m \u001b[0;34m\u001b[0m\u001b[0m\n\u001b[1;32m   1446\u001b[0m \u001b[0;34m\u001b[0m\u001b[0m\n",
            "\u001b[0;32m/content/spark-3.1.1-bin-hadoop3.2/python/lib/py4j-0.10.9-src.zip/py4j/java_gateway.py\u001b[0m in \u001b[0;36m__call__\u001b[0;34m(self, *args)\u001b[0m\n\u001b[1;32m   1302\u001b[0m \u001b[0;34m\u001b[0m\u001b[0m\n\u001b[1;32m   1303\u001b[0m         \u001b[0manswer\u001b[0m \u001b[0;34m=\u001b[0m \u001b[0mself\u001b[0m\u001b[0;34m.\u001b[0m\u001b[0mgateway_client\u001b[0m\u001b[0;34m.\u001b[0m\u001b[0msend_command\u001b[0m\u001b[0;34m(\u001b[0m\u001b[0mcommand\u001b[0m\u001b[0;34m)\u001b[0m\u001b[0;34m\u001b[0m\u001b[0;34m\u001b[0m\u001b[0m\n\u001b[0;32m-> 1304\u001b[0;31m         return_value = get_return_value(\n\u001b[0m\u001b[1;32m   1305\u001b[0m             answer, self.gateway_client, self.target_id, self.name)\n\u001b[1;32m   1306\u001b[0m \u001b[0;34m\u001b[0m\u001b[0m\n",
            "\u001b[0;32m/content/spark-3.1.1-bin-hadoop3.2/python/pyspark/sql/utils.py\u001b[0m in \u001b[0;36mdeco\u001b[0;34m(*a, **kw)\u001b[0m\n\u001b[1;32m    109\u001b[0m     \u001b[0;32mdef\u001b[0m \u001b[0mdeco\u001b[0m\u001b[0;34m(\u001b[0m\u001b[0;34m*\u001b[0m\u001b[0ma\u001b[0m\u001b[0;34m,\u001b[0m \u001b[0;34m**\u001b[0m\u001b[0mkw\u001b[0m\u001b[0;34m)\u001b[0m\u001b[0;34m:\u001b[0m\u001b[0;34m\u001b[0m\u001b[0;34m\u001b[0m\u001b[0m\n\u001b[1;32m    110\u001b[0m         \u001b[0;32mtry\u001b[0m\u001b[0;34m:\u001b[0m\u001b[0;34m\u001b[0m\u001b[0;34m\u001b[0m\u001b[0m\n\u001b[0;32m--> 111\u001b[0;31m             \u001b[0;32mreturn\u001b[0m \u001b[0mf\u001b[0m\u001b[0;34m(\u001b[0m\u001b[0;34m*\u001b[0m\u001b[0ma\u001b[0m\u001b[0;34m,\u001b[0m \u001b[0;34m**\u001b[0m\u001b[0mkw\u001b[0m\u001b[0;34m)\u001b[0m\u001b[0;34m\u001b[0m\u001b[0;34m\u001b[0m\u001b[0m\n\u001b[0m\u001b[1;32m    112\u001b[0m         \u001b[0;32mexcept\u001b[0m \u001b[0mpy4j\u001b[0m\u001b[0;34m.\u001b[0m\u001b[0mprotocol\u001b[0m\u001b[0;34m.\u001b[0m\u001b[0mPy4JJavaError\u001b[0m \u001b[0;32mas\u001b[0m \u001b[0me\u001b[0m\u001b[0;34m:\u001b[0m\u001b[0;34m\u001b[0m\u001b[0;34m\u001b[0m\u001b[0m\n\u001b[1;32m    113\u001b[0m             \u001b[0mconverted\u001b[0m \u001b[0;34m=\u001b[0m \u001b[0mconvert_exception\u001b[0m\u001b[0;34m(\u001b[0m\u001b[0me\u001b[0m\u001b[0;34m.\u001b[0m\u001b[0mjava_exception\u001b[0m\u001b[0;34m)\u001b[0m\u001b[0;34m\u001b[0m\u001b[0;34m\u001b[0m\u001b[0m\n",
            "\u001b[0;32m/content/spark-3.1.1-bin-hadoop3.2/python/lib/py4j-0.10.9-src.zip/py4j/protocol.py\u001b[0m in \u001b[0;36mget_return_value\u001b[0;34m(answer, gateway_client, target_id, name)\u001b[0m\n\u001b[1;32m    324\u001b[0m             \u001b[0mvalue\u001b[0m \u001b[0;34m=\u001b[0m \u001b[0mOUTPUT_CONVERTER\u001b[0m\u001b[0;34m[\u001b[0m\u001b[0mtype\u001b[0m\u001b[0;34m]\u001b[0m\u001b[0;34m(\u001b[0m\u001b[0manswer\u001b[0m\u001b[0;34m[\u001b[0m\u001b[0;36m2\u001b[0m\u001b[0;34m:\u001b[0m\u001b[0;34m]\u001b[0m\u001b[0;34m,\u001b[0m \u001b[0mgateway_client\u001b[0m\u001b[0;34m)\u001b[0m\u001b[0;34m\u001b[0m\u001b[0;34m\u001b[0m\u001b[0m\n\u001b[1;32m    325\u001b[0m             \u001b[0;32mif\u001b[0m \u001b[0manswer\u001b[0m\u001b[0;34m[\u001b[0m\u001b[0;36m1\u001b[0m\u001b[0;34m]\u001b[0m \u001b[0;34m==\u001b[0m \u001b[0mREFERENCE_TYPE\u001b[0m\u001b[0;34m:\u001b[0m\u001b[0;34m\u001b[0m\u001b[0;34m\u001b[0m\u001b[0m\n\u001b[0;32m--> 326\u001b[0;31m                 raise Py4JJavaError(\n\u001b[0m\u001b[1;32m    327\u001b[0m                     \u001b[0;34m\"An error occurred while calling {0}{1}{2}.\\n\"\u001b[0m\u001b[0;34m.\u001b[0m\u001b[0;34m\u001b[0m\u001b[0;34m\u001b[0m\u001b[0m\n\u001b[1;32m    328\u001b[0m                     format(target_id, \".\", name), value)\n",
            "\u001b[0;31mPy4JJavaError\u001b[0m: An error occurred while calling o1083.jdbc.\n: java.sql.SQLException: No suitable driver\n\tat java.sql.DriverManager.getDriver(DriverManager.java:315)\n\tat org.apache.spark.sql.execution.datasources.jdbc.JDBCOptions.$anonfun$driverClass$2(JDBCOptions.scala:108)\n\tat scala.Option.getOrElse(Option.scala:189)\n\tat org.apache.spark.sql.execution.datasources.jdbc.JDBCOptions.<init>(JDBCOptions.scala:108)\n\tat org.apache.spark.sql.execution.datasources.jdbc.JdbcOptionsInWrite.<init>(JDBCOptions.scala:215)\n\tat org.apache.spark.sql.execution.datasources.jdbc.JdbcOptionsInWrite.<init>(JDBCOptions.scala:219)\n\tat org.apache.spark.sql.execution.datasources.jdbc.JdbcRelationProvider.createRelation(JdbcRelationProvider.scala:45)\n\tat org.apache.spark.sql.execution.datasources.SaveIntoDataSourceCommand.run(SaveIntoDataSourceCommand.scala:46)\n\tat org.apache.spark.sql.execution.command.ExecutedCommandExec.sideEffectResult$lzycompute(commands.scala:70)\n\tat org.apache.spark.sql.execution.command.ExecutedCommandExec.sideEffectResult(commands.scala:68)\n\tat org.apache.spark.sql.execution.command.ExecutedCommandExec.doExecute(commands.scala:90)\n\tat org.apache.spark.sql.execution.SparkPlan.$anonfun$execute$1(SparkPlan.scala:180)\n\tat org.apache.spark.sql.execution.SparkPlan.$anonfun$executeQuery$1(SparkPlan.scala:218)\n\tat org.apache.spark.rdd.RDDOperationScope$.withScope(RDDOperationScope.scala:151)\n\tat org.apache.spark.sql.execution.SparkPlan.executeQuery(SparkPlan.scala:215)\n\tat org.apache.spark.sql.execution.SparkPlan.execute(SparkPlan.scala:176)\n\tat org.apache.spark.sql.execution.QueryExecution.toRdd$lzycompute(QueryExecution.scala:132)\n\tat org.apache.spark.sql.execution.QueryExecution.toRdd(QueryExecution.scala:131)\n\tat org.apache.spark.sql.DataFrameWriter.$anonfun$runCommand$1(DataFrameWriter.scala:989)\n\tat org.apache.spark.sql.execution.SQLExecution$.$anonfun$withNewExecutionId$5(SQLExecution.scala:103)\n\tat org.apache.spark.sql.execution.SQLExecution$.withSQLConfPropagated(SQLExecution.scala:163)\n\tat org.apache.spark.sql.execution.SQLExecution$.$anonfun$withNewExecutionId$1(SQLExecution.scala:90)\n\tat org.apache.spark.sql.SparkSession.withActive(SparkSession.scala:772)\n\tat org.apache.spark.sql.execution.SQLExecution$.withNewExecutionId(SQLExecution.scala:64)\n\tat org.apache.spark.sql.DataFrameWriter.runCommand(DataFrameWriter.scala:989)\n\tat org.apache.spark.sql.DataFrameWriter.saveToV1Source(DataFrameWriter.scala:438)\n\tat org.apache.spark.sql.DataFrameWriter.saveInternal(DataFrameWriter.scala:415)\n\tat org.apache.spark.sql.DataFrameWriter.save(DataFrameWriter.scala:301)\n\tat org.apache.spark.sql.DataFrameWriter.jdbc(DataFrameWriter.scala:817)\n\tat sun.reflect.NativeMethodAccessorImpl.invoke0(Native Method)\n\tat sun.reflect.NativeMethodAccessorImpl.invoke(NativeMethodAccessorImpl.java:62)\n\tat sun.reflect.DelegatingMethodAccessorImpl.invoke(DelegatingMethodAccessorImpl.java:43)\n\tat java.lang.reflect.Method.invoke(Method.java:498)\n\tat py4j.reflection.MethodInvoker.invoke(MethodInvoker.java:244)\n\tat py4j.reflection.ReflectionEngine.invoke(ReflectionEngine.java:357)\n\tat py4j.Gateway.invoke(Gateway.java:282)\n\tat py4j.commands.AbstractCommand.invokeMethod(AbstractCommand.java:132)\n\tat py4j.commands.CallCommand.execute(CallCommand.java:79)\n\tat py4j.GatewayConnection.run(GatewayConnection.java:238)\n\tat java.lang.Thread.run(Thread.java:750)\n"
          ]
        }
      ]
    }
  ]
}